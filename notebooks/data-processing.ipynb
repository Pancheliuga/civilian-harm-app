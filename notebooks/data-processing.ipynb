{
 "cells": [
  {
   "cell_type": "code",
   "execution_count": 21,
   "id": "c88c3ae6-d9b7-401c-9505-658275037b44",
   "metadata": {},
   "outputs": [],
   "source": [
    "import pandas as pd\n",
    "import json\n",
    "import folium\n",
    "from folium.plugins import HeatMap"
   ]
  },
  {
   "cell_type": "code",
   "execution_count": 2,
   "id": "def760f1-290d-423b-bfe2-e26695f56dfe",
   "metadata": {},
   "outputs": [],
   "source": [
    "fp = '../data/ukr-civharm-2022-05-20.json'"
   ]
  },
  {
   "cell_type": "code",
   "execution_count": 3,
   "id": "9dc96b1d-1a84-4ad1-a515-9f55069fe26d",
   "metadata": {},
   "outputs": [],
   "source": [
    "with open(fp, 'r') as file:\n",
    "     content = json.loads(file.read())"
   ]
  },
  {
   "cell_type": "code",
   "execution_count": 4,
   "id": "468d643c-492f-485b-a0bf-bb1176cc1d3a",
   "metadata": {},
   "outputs": [],
   "source": [
    "data = pd.json_normalize(content, record_path='filters', meta=['id', 'date', 'latitude', 'longitude', 'location', 'description'])"
   ]
  },
  {
   "cell_type": "code",
   "execution_count": 5,
   "id": "18612ed6-b338-4999-82a7-ad64e9274a60",
   "metadata": {},
   "outputs": [
    {
     "data": {
      "text/html": [
       "<div>\n",
       "<style scoped>\n",
       "    .dataframe tbody tr th:only-of-type {\n",
       "        vertical-align: middle;\n",
       "    }\n",
       "\n",
       "    .dataframe tbody tr th {\n",
       "        vertical-align: top;\n",
       "    }\n",
       "\n",
       "    .dataframe thead th {\n",
       "        text-align: right;\n",
       "    }\n",
       "</style>\n",
       "<table border=\"1\" class=\"dataframe\">\n",
       "  <thead>\n",
       "    <tr style=\"text-align: right;\">\n",
       "      <th></th>\n",
       "      <th>key</th>\n",
       "      <th>value</th>\n",
       "      <th>id</th>\n",
       "      <th>date</th>\n",
       "      <th>latitude</th>\n",
       "      <th>longitude</th>\n",
       "      <th>location</th>\n",
       "      <th>description</th>\n",
       "    </tr>\n",
       "  </thead>\n",
       "  <tbody>\n",
       "    <tr>\n",
       "      <th>0</th>\n",
       "      <td>Type of area affected</td>\n",
       "      <td>Residential</td>\n",
       "      <td>CIV0001</td>\n",
       "      <td>02/24/2022</td>\n",
       "      <td>49.85005</td>\n",
       "      <td>36.659031</td>\n",
       "      <td>Chuhuiv, south of Kharkiv</td>\n",
       "      <td>Apartment block hit. Crater is very large, pos...</td>\n",
       "    </tr>\n",
       "    <tr>\n",
       "      <th>1</th>\n",
       "      <td>Weapon System</td>\n",
       "      <td>Unknown</td>\n",
       "      <td>CIV0001</td>\n",
       "      <td>02/24/2022</td>\n",
       "      <td>49.85005</td>\n",
       "      <td>36.659031</td>\n",
       "      <td>Chuhuiv, south of Kharkiv</td>\n",
       "      <td>Apartment block hit. Crater is very large, pos...</td>\n",
       "    </tr>\n",
       "    <tr>\n",
       "      <th>2</th>\n",
       "      <td>Type of area affected</td>\n",
       "      <td>Commercial</td>\n",
       "      <td>CIV0002</td>\n",
       "      <td>02/24/2022</td>\n",
       "      <td>48.748564</td>\n",
       "      <td>30.218515</td>\n",
       "      <td>Uman</td>\n",
       "      <td>Civillians hit by what appears to have been ar...</td>\n",
       "    </tr>\n",
       "    <tr>\n",
       "      <th>3</th>\n",
       "      <td>Weapon System</td>\n",
       "      <td>Air strike</td>\n",
       "      <td>CIV0002</td>\n",
       "      <td>02/24/2022</td>\n",
       "      <td>48.748564</td>\n",
       "      <td>30.218515</td>\n",
       "      <td>Uman</td>\n",
       "      <td>Civillians hit by what appears to have been ar...</td>\n",
       "    </tr>\n",
       "    <tr>\n",
       "      <th>4</th>\n",
       "      <td>Type of area affected</td>\n",
       "      <td>Healthcare</td>\n",
       "      <td>CIV0004</td>\n",
       "      <td>02/24/2022</td>\n",
       "      <td>47.775537</td>\n",
       "      <td>37.239601</td>\n",
       "      <td>Vuhledar</td>\n",
       "      <td>Explosion in central Kyiv, nothing further yet.</td>\n",
       "    </tr>\n",
       "  </tbody>\n",
       "</table>\n",
       "</div>"
      ],
      "text/plain": [
       "                     key        value       id        date   latitude  \\\n",
       "0  Type of area affected  Residential  CIV0001  02/24/2022   49.85005   \n",
       "1          Weapon System      Unknown  CIV0001  02/24/2022   49.85005   \n",
       "2  Type of area affected   Commercial  CIV0002  02/24/2022  48.748564   \n",
       "3          Weapon System   Air strike  CIV0002  02/24/2022  48.748564   \n",
       "4  Type of area affected   Healthcare  CIV0004  02/24/2022  47.775537   \n",
       "\n",
       "   longitude                   location  \\\n",
       "0  36.659031  Chuhuiv, south of Kharkiv   \n",
       "1  36.659031  Chuhuiv, south of Kharkiv   \n",
       "2  30.218515                       Uman   \n",
       "3  30.218515                       Uman   \n",
       "4  37.239601                   Vuhledar   \n",
       "\n",
       "                                         description  \n",
       "0  Apartment block hit. Crater is very large, pos...  \n",
       "1  Apartment block hit. Crater is very large, pos...  \n",
       "2  Civillians hit by what appears to have been ar...  \n",
       "3  Civillians hit by what appears to have been ar...  \n",
       "4    Explosion in central Kyiv, nothing further yet.  "
      ]
     },
     "execution_count": 5,
     "metadata": {},
     "output_type": "execute_result"
    }
   ],
   "source": [
    "data.head()"
   ]
  },
  {
   "cell_type": "code",
   "execution_count": 6,
   "id": "764d509c-f392-4a8f-a07f-077a63846503",
   "metadata": {},
   "outputs": [],
   "source": [
    "data = data[data['key'] == 'Type of area affected']"
   ]
  },
  {
   "cell_type": "code",
   "execution_count": 7,
   "id": "a657b37b-8ea9-4511-8af6-93e14b8fdbce",
   "metadata": {},
   "outputs": [
    {
     "name": "stdout",
     "output_type": "stream",
     "text": [
      "<class 'pandas.core.frame.DataFrame'>\n",
      "Int64Index: 451 entries, 0 to 895\n",
      "Data columns (total 8 columns):\n",
      " #   Column       Non-Null Count  Dtype \n",
      "---  ------       --------------  ----- \n",
      " 0   key          451 non-null    object\n",
      " 1   value        451 non-null    object\n",
      " 2   id           451 non-null    object\n",
      " 3   date         451 non-null    object\n",
      " 4   latitude     451 non-null    object\n",
      " 5   longitude    451 non-null    object\n",
      " 6   location     451 non-null    object\n",
      " 7   description  451 non-null    object\n",
      "dtypes: object(8)\n",
      "memory usage: 31.7+ KB\n"
     ]
    }
   ],
   "source": [
    "data.info()"
   ]
  },
  {
   "cell_type": "code",
   "execution_count": 8,
   "id": "c04ffe6d-89b5-4b15-a439-49246ac95a53",
   "metadata": {},
   "outputs": [],
   "source": [
    "data = data.rename(columns={'value': 'type of area affected'})"
   ]
  },
  {
   "cell_type": "code",
   "execution_count": 9,
   "id": "1b59d4c5-eacd-43c0-af40-ee9438d1470e",
   "metadata": {},
   "outputs": [
    {
     "data": {
      "text/html": [
       "<div>\n",
       "<style scoped>\n",
       "    .dataframe tbody tr th:only-of-type {\n",
       "        vertical-align: middle;\n",
       "    }\n",
       "\n",
       "    .dataframe tbody tr th {\n",
       "        vertical-align: top;\n",
       "    }\n",
       "\n",
       "    .dataframe thead th {\n",
       "        text-align: right;\n",
       "    }\n",
       "</style>\n",
       "<table border=\"1\" class=\"dataframe\">\n",
       "  <thead>\n",
       "    <tr style=\"text-align: right;\">\n",
       "      <th></th>\n",
       "      <th>key</th>\n",
       "      <th>type of area affected</th>\n",
       "      <th>id</th>\n",
       "      <th>date</th>\n",
       "      <th>latitude</th>\n",
       "      <th>longitude</th>\n",
       "      <th>location</th>\n",
       "      <th>description</th>\n",
       "    </tr>\n",
       "  </thead>\n",
       "  <tbody>\n",
       "    <tr>\n",
       "      <th>0</th>\n",
       "      <td>Type of area affected</td>\n",
       "      <td>Residential</td>\n",
       "      <td>CIV0001</td>\n",
       "      <td>02/24/2022</td>\n",
       "      <td>49.85005</td>\n",
       "      <td>36.659031</td>\n",
       "      <td>Chuhuiv, south of Kharkiv</td>\n",
       "      <td>Apartment block hit. Crater is very large, pos...</td>\n",
       "    </tr>\n",
       "    <tr>\n",
       "      <th>2</th>\n",
       "      <td>Type of area affected</td>\n",
       "      <td>Commercial</td>\n",
       "      <td>CIV0002</td>\n",
       "      <td>02/24/2022</td>\n",
       "      <td>48.748564</td>\n",
       "      <td>30.218515</td>\n",
       "      <td>Uman</td>\n",
       "      <td>Civillians hit by what appears to have been ar...</td>\n",
       "    </tr>\n",
       "    <tr>\n",
       "      <th>4</th>\n",
       "      <td>Type of area affected</td>\n",
       "      <td>Healthcare</td>\n",
       "      <td>CIV0004</td>\n",
       "      <td>02/24/2022</td>\n",
       "      <td>47.775537</td>\n",
       "      <td>37.239601</td>\n",
       "      <td>Vuhledar</td>\n",
       "      <td>Explosion in central Kyiv, nothing further yet.</td>\n",
       "    </tr>\n",
       "    <tr>\n",
       "      <th>6</th>\n",
       "      <td>Type of area affected</td>\n",
       "      <td>Undefined</td>\n",
       "      <td>CIV0007</td>\n",
       "      <td>02/24/2022</td>\n",
       "      <td>46.22789</td>\n",
       "      <td>34.64283</td>\n",
       "      <td>Semihatka/Henichesk</td>\n",
       "      <td>Corpse of a child wrapped in a blanket near th...</td>\n",
       "    </tr>\n",
       "    <tr>\n",
       "      <th>8</th>\n",
       "      <td>Type of area affected</td>\n",
       "      <td>Residential</td>\n",
       "      <td>CIV0008</td>\n",
       "      <td>02/24/2022</td>\n",
       "      <td>47.116736</td>\n",
       "      <td>37.684468</td>\n",
       "      <td>Mariupol</td>\n",
       "      <td>Civillian homes hit by artillery.</td>\n",
       "    </tr>\n",
       "  </tbody>\n",
       "</table>\n",
       "</div>"
      ],
      "text/plain": [
       "                     key type of area affected       id        date  \\\n",
       "0  Type of area affected           Residential  CIV0001  02/24/2022   \n",
       "2  Type of area affected            Commercial  CIV0002  02/24/2022   \n",
       "4  Type of area affected            Healthcare  CIV0004  02/24/2022   \n",
       "6  Type of area affected             Undefined  CIV0007  02/24/2022   \n",
       "8  Type of area affected           Residential  CIV0008  02/24/2022   \n",
       "\n",
       "    latitude  longitude                   location  \\\n",
       "0   49.85005  36.659031  Chuhuiv, south of Kharkiv   \n",
       "2  48.748564  30.218515                       Uman   \n",
       "4  47.775537  37.239601                   Vuhledar   \n",
       "6   46.22789   34.64283        Semihatka/Henichesk   \n",
       "8  47.116736  37.684468                   Mariupol   \n",
       "\n",
       "                                         description  \n",
       "0  Apartment block hit. Crater is very large, pos...  \n",
       "2  Civillians hit by what appears to have been ar...  \n",
       "4    Explosion in central Kyiv, nothing further yet.  \n",
       "6  Corpse of a child wrapped in a blanket near th...  \n",
       "8                 Civillian homes hit by artillery.   "
      ]
     },
     "execution_count": 9,
     "metadata": {},
     "output_type": "execute_result"
    }
   ],
   "source": [
    "data.head()"
   ]
  },
  {
   "cell_type": "code",
   "execution_count": 10,
   "id": "84e73d6b-d719-4e95-ae8d-4b9ac592d07b",
   "metadata": {},
   "outputs": [],
   "source": [
    "data = data[['id', 'date', 'latitude', 'longitude', 'location', 'type of area affected', 'description']].set_index('id')"
   ]
  },
  {
   "cell_type": "code",
   "execution_count": 11,
   "id": "42a9d18d-08ac-4fa9-b7cc-3c55d87b5e50",
   "metadata": {},
   "outputs": [
    {
     "data": {
      "text/html": [
       "<div>\n",
       "<style scoped>\n",
       "    .dataframe tbody tr th:only-of-type {\n",
       "        vertical-align: middle;\n",
       "    }\n",
       "\n",
       "    .dataframe tbody tr th {\n",
       "        vertical-align: top;\n",
       "    }\n",
       "\n",
       "    .dataframe thead th {\n",
       "        text-align: right;\n",
       "    }\n",
       "</style>\n",
       "<table border=\"1\" class=\"dataframe\">\n",
       "  <thead>\n",
       "    <tr style=\"text-align: right;\">\n",
       "      <th></th>\n",
       "      <th>date</th>\n",
       "      <th>latitude</th>\n",
       "      <th>longitude</th>\n",
       "      <th>location</th>\n",
       "      <th>type of area affected</th>\n",
       "      <th>description</th>\n",
       "    </tr>\n",
       "    <tr>\n",
       "      <th>id</th>\n",
       "      <th></th>\n",
       "      <th></th>\n",
       "      <th></th>\n",
       "      <th></th>\n",
       "      <th></th>\n",
       "      <th></th>\n",
       "    </tr>\n",
       "  </thead>\n",
       "  <tbody>\n",
       "    <tr>\n",
       "      <th>CIV0001</th>\n",
       "      <td>02/24/2022</td>\n",
       "      <td>49.85005</td>\n",
       "      <td>36.659031</td>\n",
       "      <td>Chuhuiv, south of Kharkiv</td>\n",
       "      <td>Residential</td>\n",
       "      <td>Apartment block hit. Crater is very large, pos...</td>\n",
       "    </tr>\n",
       "    <tr>\n",
       "      <th>CIV0002</th>\n",
       "      <td>02/24/2022</td>\n",
       "      <td>48.748564</td>\n",
       "      <td>30.218515</td>\n",
       "      <td>Uman</td>\n",
       "      <td>Commercial</td>\n",
       "      <td>Civillians hit by what appears to have been ar...</td>\n",
       "    </tr>\n",
       "    <tr>\n",
       "      <th>CIV0004</th>\n",
       "      <td>02/24/2022</td>\n",
       "      <td>47.775537</td>\n",
       "      <td>37.239601</td>\n",
       "      <td>Vuhledar</td>\n",
       "      <td>Healthcare</td>\n",
       "      <td>Explosion in central Kyiv, nothing further yet.</td>\n",
       "    </tr>\n",
       "    <tr>\n",
       "      <th>CIV0007</th>\n",
       "      <td>02/24/2022</td>\n",
       "      <td>46.22789</td>\n",
       "      <td>34.64283</td>\n",
       "      <td>Semihatka/Henichesk</td>\n",
       "      <td>Undefined</td>\n",
       "      <td>Corpse of a child wrapped in a blanket near th...</td>\n",
       "    </tr>\n",
       "    <tr>\n",
       "      <th>CIV0008</th>\n",
       "      <td>02/24/2022</td>\n",
       "      <td>47.116736</td>\n",
       "      <td>37.684468</td>\n",
       "      <td>Mariupol</td>\n",
       "      <td>Residential</td>\n",
       "      <td>Civillian homes hit by artillery.</td>\n",
       "    </tr>\n",
       "  </tbody>\n",
       "</table>\n",
       "</div>"
      ],
      "text/plain": [
       "               date   latitude  longitude                   location  \\\n",
       "id                                                                     \n",
       "CIV0001  02/24/2022   49.85005  36.659031  Chuhuiv, south of Kharkiv   \n",
       "CIV0002  02/24/2022  48.748564  30.218515                       Uman   \n",
       "CIV0004  02/24/2022  47.775537  37.239601                   Vuhledar   \n",
       "CIV0007  02/24/2022   46.22789   34.64283        Semihatka/Henichesk   \n",
       "CIV0008  02/24/2022  47.116736  37.684468                   Mariupol   \n",
       "\n",
       "        type of area affected  \\\n",
       "id                              \n",
       "CIV0001           Residential   \n",
       "CIV0002            Commercial   \n",
       "CIV0004            Healthcare   \n",
       "CIV0007             Undefined   \n",
       "CIV0008           Residential   \n",
       "\n",
       "                                               description  \n",
       "id                                                          \n",
       "CIV0001  Apartment block hit. Crater is very large, pos...  \n",
       "CIV0002  Civillians hit by what appears to have been ar...  \n",
       "CIV0004    Explosion in central Kyiv, nothing further yet.  \n",
       "CIV0007  Corpse of a child wrapped in a blanket near th...  \n",
       "CIV0008                 Civillian homes hit by artillery.   "
      ]
     },
     "execution_count": 11,
     "metadata": {},
     "output_type": "execute_result"
    }
   ],
   "source": [
    "data.head()"
   ]
  },
  {
   "cell_type": "code",
   "execution_count": 23,
   "id": "72b677c2-e3b6-4e56-9cde-4c9ff6dc4dd7",
   "metadata": {},
   "outputs": [],
   "source": [
    "# Create a list of coordinate pairs\n",
    "locations = list(zip(data[\"latitude\"], data[\"longitude\"]))"
   ]
  },
  {
   "cell_type": "code",
   "execution_count": 31,
   "id": "fa091562-30e4-4be6-ad57-b47f191e674a",
   "metadata": {},
   "outputs": [
    {
     "data": {
      "text/html": [
       "<div style=\"width:100%;\"><div style=\"position:relative;width:100%;height:0;padding-bottom:60%;\"><span style=\"color:#565656\">Make this Notebook Trusted to load map: File -> Trust Notebook</span><iframe src=\"about:blank\" style=\"position:absolute;width:100%;height:100%;left:0;top:0;border:none !important;\" data-html=%3C%21DOCTYPE%20html%3E%0A%3Chead%3E%20%20%20%20%0A%20%20%20%20%3Cmeta%20http-equiv%3D%22content-type%22%20content%3D%22text/html%3B%20charset%3DUTF-8%22%20/%3E%0A%20%20%20%20%0A%20%20%20%20%20%20%20%20%3Cscript%3E%0A%20%20%20%20%20%20%20%20%20%20%20%20L_NO_TOUCH%20%3D%20false%3B%0A%20%20%20%20%20%20%20%20%20%20%20%20L_DISABLE_3D%20%3D%20false%3B%0A%20%20%20%20%20%20%20%20%3C/script%3E%0A%20%20%20%20%0A%20%20%20%20%3Cstyle%3Ehtml%2C%20body%20%7Bwidth%3A%20100%25%3Bheight%3A%20100%25%3Bmargin%3A%200%3Bpadding%3A%200%3B%7D%3C/style%3E%0A%20%20%20%20%3Cstyle%3E%23map%20%7Bposition%3Aabsolute%3Btop%3A0%3Bbottom%3A0%3Bright%3A0%3Bleft%3A0%3B%7D%3C/style%3E%0A%20%20%20%20%3Cscript%20src%3D%22https%3A//cdn.jsdelivr.net/npm/leaflet%401.6.0/dist/leaflet.js%22%3E%3C/script%3E%0A%20%20%20%20%3Cscript%20src%3D%22https%3A//code.jquery.com/jquery-1.12.4.min.js%22%3E%3C/script%3E%0A%20%20%20%20%3Cscript%20src%3D%22https%3A//maxcdn.bootstrapcdn.com/bootstrap/3.2.0/js/bootstrap.min.js%22%3E%3C/script%3E%0A%20%20%20%20%3Cscript%20src%3D%22https%3A//cdnjs.cloudflare.com/ajax/libs/Leaflet.awesome-markers/2.0.2/leaflet.awesome-markers.js%22%3E%3C/script%3E%0A%20%20%20%20%3Clink%20rel%3D%22stylesheet%22%20href%3D%22https%3A//cdn.jsdelivr.net/npm/leaflet%401.6.0/dist/leaflet.css%22/%3E%0A%20%20%20%20%3Clink%20rel%3D%22stylesheet%22%20href%3D%22https%3A//maxcdn.bootstrapcdn.com/bootstrap/3.2.0/css/bootstrap.min.css%22/%3E%0A%20%20%20%20%3Clink%20rel%3D%22stylesheet%22%20href%3D%22https%3A//maxcdn.bootstrapcdn.com/bootstrap/3.2.0/css/bootstrap-theme.min.css%22/%3E%0A%20%20%20%20%3Clink%20rel%3D%22stylesheet%22%20href%3D%22https%3A//maxcdn.bootstrapcdn.com/font-awesome/4.6.3/css/font-awesome.min.css%22/%3E%0A%20%20%20%20%3Clink%20rel%3D%22stylesheet%22%20href%3D%22https%3A//cdnjs.cloudflare.com/ajax/libs/Leaflet.awesome-markers/2.0.2/leaflet.awesome-markers.css%22/%3E%0A%20%20%20%20%3Clink%20rel%3D%22stylesheet%22%20href%3D%22https%3A//cdn.jsdelivr.net/gh/python-visualization/folium/folium/templates/leaflet.awesome.rotate.min.css%22/%3E%0A%20%20%20%20%0A%20%20%20%20%20%20%20%20%20%20%20%20%3Cmeta%20name%3D%22viewport%22%20content%3D%22width%3Ddevice-width%2C%0A%20%20%20%20%20%20%20%20%20%20%20%20%20%20%20%20initial-scale%3D1.0%2C%20maximum-scale%3D1.0%2C%20user-scalable%3Dno%22%20/%3E%0A%20%20%20%20%20%20%20%20%20%20%20%20%3Cstyle%3E%0A%20%20%20%20%20%20%20%20%20%20%20%20%20%20%20%20%23map_3f143c73ee624a37bb828347e159a19f%20%7B%0A%20%20%20%20%20%20%20%20%20%20%20%20%20%20%20%20%20%20%20%20position%3A%20relative%3B%0A%20%20%20%20%20%20%20%20%20%20%20%20%20%20%20%20%20%20%20%20width%3A%20100.0%25%3B%0A%20%20%20%20%20%20%20%20%20%20%20%20%20%20%20%20%20%20%20%20height%3A%20100.0%25%3B%0A%20%20%20%20%20%20%20%20%20%20%20%20%20%20%20%20%20%20%20%20left%3A%200.0%25%3B%0A%20%20%20%20%20%20%20%20%20%20%20%20%20%20%20%20%20%20%20%20top%3A%200.0%25%3B%0A%20%20%20%20%20%20%20%20%20%20%20%20%20%20%20%20%7D%0A%20%20%20%20%20%20%20%20%20%20%20%20%3C/style%3E%0A%20%20%20%20%20%20%20%20%0A%20%20%20%20%3Cscript%20src%3D%22https%3A//cdn.jsdelivr.net/gh/python-visualization/folium%40master/folium/templates/leaflet_heat.min.js%22%3E%3C/script%3E%0A%3C/head%3E%0A%3Cbody%3E%20%20%20%20%0A%20%20%20%20%0A%20%20%20%20%20%20%20%20%20%20%20%20%3Cdiv%20class%3D%22folium-map%22%20id%3D%22map_3f143c73ee624a37bb828347e159a19f%22%20%3E%3C/div%3E%0A%20%20%20%20%20%20%20%20%0A%3C/body%3E%0A%3Cscript%3E%20%20%20%20%0A%20%20%20%20%0A%20%20%20%20%20%20%20%20%20%20%20%20var%20map_3f143c73ee624a37bb828347e159a19f%20%3D%20L.map%28%0A%20%20%20%20%20%20%20%20%20%20%20%20%20%20%20%20%22map_3f143c73ee624a37bb828347e159a19f%22%2C%0A%20%20%20%20%20%20%20%20%20%20%20%20%20%20%20%20%7B%0A%20%20%20%20%20%20%20%20%20%20%20%20%20%20%20%20%20%20%20%20center%3A%20%5B49.107892273527504%2C%2031.444630060047018%5D%2C%0A%20%20%20%20%20%20%20%20%20%20%20%20%20%20%20%20%20%20%20%20crs%3A%20L.CRS.EPSG3857%2C%0A%20%20%20%20%20%20%20%20%20%20%20%20%20%20%20%20%20%20%20%20zoom%3A%206%2C%0A%20%20%20%20%20%20%20%20%20%20%20%20%20%20%20%20%20%20%20%20zoomControl%3A%20true%2C%0A%20%20%20%20%20%20%20%20%20%20%20%20%20%20%20%20%20%20%20%20preferCanvas%3A%20false%2C%0A%20%20%20%20%20%20%20%20%20%20%20%20%20%20%20%20%7D%0A%20%20%20%20%20%20%20%20%20%20%20%20%29%3B%0A%20%20%20%20%20%20%20%20%20%20%20%20L.control.scale%28%29.addTo%28map_3f143c73ee624a37bb828347e159a19f%29%3B%0A%0A%20%20%20%20%20%20%20%20%20%20%20%20%0A%0A%20%20%20%20%20%20%20%20%0A%20%20%20%20%0A%20%20%20%20%20%20%20%20%20%20%20%20var%20tile_layer_6784c7e637424e40ad94022609df7e56%20%3D%20L.tileLayer%28%0A%20%20%20%20%20%20%20%20%20%20%20%20%20%20%20%20%22https%3A//stamen-tiles-%7Bs%7D.a.ssl.fastly.net/toner/%7Bz%7D/%7Bx%7D/%7By%7D.png%22%2C%0A%20%20%20%20%20%20%20%20%20%20%20%20%20%20%20%20%7B%22attribution%22%3A%20%22Map%20tiles%20by%20%5Cu003ca%20href%3D%5C%22http%3A//stamen.com%5C%22%5Cu003eStamen%20Design%5Cu003c/a%5Cu003e%2C%20under%20%5Cu003ca%20href%3D%5C%22http%3A//creativecommons.org/licenses/by/3.0%5C%22%5Cu003eCC%20BY%203.0%5Cu003c/a%5Cu003e.%20Data%20by%20%5Cu0026copy%3B%20%5Cu003ca%20href%3D%5C%22http%3A//openstreetmap.org%5C%22%5Cu003eOpenStreetMap%5Cu003c/a%5Cu003e%2C%20under%20%5Cu003ca%20href%3D%5C%22http%3A//www.openstreetmap.org/copyright%5C%22%5Cu003eODbL%5Cu003c/a%5Cu003e.%22%2C%20%22detectRetina%22%3A%20false%2C%20%22maxNativeZoom%22%3A%2018%2C%20%22maxZoom%22%3A%2018%2C%20%22minZoom%22%3A%200%2C%20%22noWrap%22%3A%20false%2C%20%22opacity%22%3A%201%2C%20%22subdomains%22%3A%20%22abc%22%2C%20%22tms%22%3A%20false%7D%0A%20%20%20%20%20%20%20%20%20%20%20%20%29.addTo%28map_3f143c73ee624a37bb828347e159a19f%29%3B%0A%20%20%20%20%20%20%20%20%0A%20%20%20%20%0A%20%20%20%20%20%20%20%20%20%20%20%20var%20heat_map_9ec7daac6b0549928f3c29838f31b51c%20%3D%20L.heatLayer%28%0A%20%20%20%20%20%20%20%20%20%20%20%20%20%20%20%20%5B%5B49.85005%2C%2036.659031%5D%2C%20%5B48.748564%2C%2030.218515%5D%2C%20%5B47.775537%2C%2037.239601%5D%2C%20%5B46.22789%2C%2034.64283%5D%2C%20%5B47.116736%2C%2037.684468%5D%2C%20%5B47.120812%2C%2037.680896%5D%2C%20%5B48.050732%2C%2037.777318%5D%2C%20%5B50.308065%2C%2034.880457%5D%2C%20%5B48.054917%2C%2037.777822%5D%2C%20%5B49.211889%2C%2038.905691%5D%2C%20%5B50.405126%2C%2030.644991%5D%2C%20%5B50.517921%2C%2030.489868%5D%2C%20%5B49.987116%2C%2036.261098%5D%2C%20%5B49.990482%2C%2036.267443%5D%2C%20%5B50.546217%2C%2030.20572%5D%2C%20%5B50.447934%2C%2030.476193%5D%2C%20%5B50.046871%2C%2036.354415%5D%2C%20%5B50.309014%2C%2034.869037%5D%2C%20%5B50.485573%2C%2030.472797%5D%2C%20%5B50.043216%2C%2036.355272%5D%2C%20%5B46.638598%2C%2032.610175%5D%2C%20%5B46.608638%2C%2032.844773%5D%2C%20%5B46.83952%2C%2035.370967%5D%2C%20%5B50.553812%2C%2030.274272%5D%2C%20%5B50.514734%2C%2030.227499%5D%2C%20%5B50.003401%2C%2036.256498%5D%2C%20%5B50.04807%2C%2036.188935%5D%2C%20%5B50.101774%2C%2036.280238%5D%2C%20%5B48.335035%2C%2038.08337%5D%2C%20%5B48.324982%2C%2038.137056%5D%2C%20%5B50.022011%2C%2036.330176%5D%2C%20%5B50.42217%2C%2030.46481%5D%2C%20%5B51.524277%2C%2031.325445%5D%2C%20%5B47.180475%2C%2037.697935%5D%2C%20%5B46.742547%2C%2032.716787%5D%2C%20%5B50.65881%2C%2029.966006%5D%2C%20%5B50.450816%2C%2030.480674%5D%2C%20%5B50.026039%2C%2036.364213%5D%2C%20%5B49.590963%2C%2036.992584%5D%2C%20%5B48.914812%2C%2038.429436%5D%2C%20%5B50.020018%2C%2036.346685%5D%2C%20%5B50.184244%2C%2036.119262%5D%2C%20%5B47.977043%2C%2037.698301%5D%2C%20%5B47.97635%2C%2037.697215%5D%2C%20%5B50.481478%2C%2030.458893%5D%2C%20%5B50.481122%2C%2034.968007%5D%2C%20%5B47.251619%2C%2034.332433%5D%2C%20%5B50.009975%2C%2036.285385%5D%2C%20%5B51.490932%2C%2031.296623%5D%2C%20%5B51.490216%2C%2031.294106%5D%2C%20%5B46.963574%2C%2032.026989%5D%2C%20%5B47.612571%2C%2037.487373%5D%2C%20%5B50.305984%2C%2034.879598%5D%2C%20%5B50.925402%2C%2029.876575%5D%2C%20%5B50.189135%2C%2030.310636%5D%2C%20%5B50.188812%2C%2030.311921%5D%2C%20%5B51.314043%2C%2026.096582%5D%2C%20%5B50.02589%2C%2036.36422%5D%2C%20%5B50.457029%2C%2030.592146%5D%2C%20%5B48.29455%2C%2037.988999%5D%2C%20%5B50.02505%2C%2036.343636%5D%2C%20%5B49.624973%2C%2036.63978%5D%2C%20%5B49.178651%2C%2037.28665%5D%2C%20%5B50.003344%2C%2036.332028%5D%2C%20%5B50.029094%2C%2036.357679%5D%2C%20%5B50.017367%2C%2036.212218%5D%2C%20%5B50.032544%2C%2036.236532%5D%2C%20%5B50.031543%2C%2036.23626%5D%2C%20%5B50.034356%2C%2036.237958%5D%2C%20%5B50.032432%2C%2036.238577%5D%2C%20%5B50.003296%2C%2036.330222%5D%2C%20%5B50.020431%2C%2036.372477%5D%2C%20%5B49.927375%2C%2036.432939%5D%2C%20%5B48.957226%2C%2038.50357%5D%2C%20%5B50.463479%2C%2029.795807%5D%2C%20%5B50.026284%2C%2036.20691%5D%2C%20%5B50.929696%2C%2029.905967%5D%2C%20%5B47.110998%2C%2037.512722%5D%2C%20%5B51.525125%2C%2031.329635%5D%2C%20%5B48.038535%2C%2037.79508%5D%2C%20%5B50.020272%2C%2036.216903%5D%2C%20%5B50.002135%2C%2036.328399%5D%2C%20%5B50.00382%2C%2036.23591%5D%2C%20%5B50.514881%2C%2030.598049%5D%2C%20%5B46.678874%2C%2032.613894%5D%2C%20%5B46.584286%2C%2030.553615%5D%2C%20%5B46.670911%2C%2032.609178%5D%2C%20%5B50.639733%2C%2029.917397%5D%2C%20%5B50.639371%2C%2029.919503%5D%2C%20%5B49.949748%2C%2036.156047%5D%2C%20%5B50.02564%2C%2036.258106%5D%2C%20%5B50.471321%2C%2030.45342%5D%2C%20%5B50.641922%2C%2029.929294%5D%2C%20%5B47.10989%2C%2037.552784%5D%2C%20%5B46.658512%2C%2032.571421%5D%2C%20%5B48.045383%2C%2037.790413%5D%2C%20%5B47.946399%2C%2037.602613%5D%2C%20%5B47.993138%2C%2037.68033%5D%2C%20%5B47.946758%2C%2037.602972%5D%2C%20%5B50.430225%2C%2030.02996%5D%2C%20%5B51.203886%2C%2029.48612%5D%2C%20%5B49.998385%2C%2036.23507%5D%2C%20%5B50.541524%2C%2030.263952%5D%2C%20%5B49.930557%2C%2036.415885%5D%2C%20%5B49.937728%2C%2036.40341%5D%2C%20%5B48.920794%2C%2038.402965%5D%2C%20%5B48.952449%2C%2038.358095%5D%2C%20%5B50.639698%2C%2029.918183%5D%2C%20%5B49.989588%2C%2036.232128%5D%2C%20%5B50.020782%2C%2036.327713%5D%2C%20%5B48.939691%2C%2038.500354%5D%2C%20%5B50.00768%2C%2036.237758%5D%2C%20%5B50.004544%2C%2036.237484%5D%2C%20%5B49.980342%2C%2036.176673%5D%2C%20%5B49.190128%2C%2037.277762%5D%2C%20%5B49.989733%2C%2036.232544%5D%2C%20%5B47.09798%2C%2037.502158%5D%2C%20%5B48.862155%2C%2038.478099%5D%2C%20%5B51.500055%2C%2031.246599%5D%2C%20%5B51.499794%2C%2031.278018%5D%2C%20%5B50.030499%2C%2036.284067%5D%2C%20%5B50.642728%2C%2029.93281%5D%2C%20%5B50.031408%2C%2036.253556%5D%2C%20%5B50.01637%2C%2036.354336%5D%2C%20%5B50.025893%2C%2036.341599%5D%2C%20%5B50.02589%2C%2036.240612%5D%2C%20%5B46.639039%2C%2032.627524%5D%2C%20%5B50.251238%2C%2028.663794%5D%2C%20%5B50.00358%2C%2036.236976%5D%2C%20%5B48.941202%2C%2038.493199%5D%2C%20%5B47.10472%2C%2037.635406%5D%2C%20%5B50.028341%2C%2036.345121%5D%2C%20%5B50.574281%2C%2030.263871%5D%2C%20%5B48.942209%2C%2038.495751%5D%2C%20%5B50.021807%2C%2036.350644%5D%2C%20%5B50.043435%2C%2036.325147%5D%2C%20%5B50.034931%2C%2036.368948%5D%2C%20%5B50.028525%2C%2036.344855%5D%2C%20%5B50.439808%2C%2030.294673%5D%2C%20%5B50.522349%2C%2030.226315%5D%2C%20%5B47.506362%2C%2034.584835%5D%2C%20%5B50.434676%2C%2030.08831%5D%2C%20%5B49.946453%2C%2036.269204%5D%2C%20%5B49.342847%2C%2037.527481%5D%2C%20%5B49.804617%2C%2030.096714%5D%2C%20%5B49.536343%2C%2039.105627%5D%2C%20%5B50.024612%2C%2036.339788%5D%2C%20%5B50.957884%2C%2028.611697%5D%2C%20%5B50.041575%2C%2036.359368%5D%2C%20%5B50.041001%2C%2036.357136%5D%2C%20%5B50.497276%2C%2031.258481%5D%2C%20%5B50.08927%2C%2036.255799%5D%2C%20%5B49.242345%2C%2028.603789%5D%2C%20%5B50.4896%2C%2030.259741%5D%2C%20%5B50.041031%2C%2036.357721%5D%2C%20%5B50.033648%2C%2036.366211%5D%2C%20%5B51.330196%2C%2028.800319%5D%2C%20%5B50.655189%2C%2031.072859%5D%2C%20%5B50.060738%2C%2036.20195%5D%2C%20%5B50.421482%2C%2030.045119%5D%2C%20%5B49.982676%2C%2036.197584%5D%2C%20%5B47.661606%2C%2036.251095%5D%2C%20%5B47.921505%2C%2037.57133%5D%2C%20%5B48.057841%2C%2037.77948%5D%2C%20%5B48.054767%2C%2037.777684%5D%2C%20%5B50.058874%2C%2036.199306%5D%2C%20%5B50.766974%2C%2029.242099%5D%2C%20%5B50.035729%2C%2036.230024%5D%2C%20%5B49.98732%2C%2036.244451%5D%2C%20%5B46.672852%2C%2032.643839%5D%2C%20%5B50.703613%2C%2031.150294%5D%2C%20%5B49.987929%2C%2036.244345%5D%2C%20%5B50.04056%2C%2036.226122%5D%2C%20%5B46.942366%2C%2032.035242%5D%2C%20%5B50.897377%2C%2034.767084%5D%2C%20%5B49.189041%2C%2037.273548%5D%2C%20%5B48.514479%2C%2039.299536%5D%2C%20%5B50.044042%2C%2036.278536%5D%2C%20%5B46.842284%2C%2032.004581%5D%2C%20%5B49.980002%2C%2036.359748%5D%2C%20%5B49.196101%2C%2037.275429%5D%2C%20%5B50.439532%2C%2030.146396%5D%2C%20%5B46.93802%2C%2032.039656%5D%2C%20%5B50.007422%2C%2036.237555%5D%2C%20%5B50.004094%2C%2036.237394%5D%2C%20%5B50.304197%2C%2034.893434%5D%2C%20%5B50.028458%2C%2036.367133%5D%2C%20%5B47.007301%2C%2031.998979%5D%2C%20%5B47.104074%2C%2037.560414%5D%2C%20%5B48.872075%2C%2038.438306%5D%2C%20%5B49.19044%2C%2037.273879%5D%2C%20%5B50.032571%2C%2036.348191%5D%2C%20%5B47.096337%2C%2037.533483%5D%2C%20%5B47.700147%2C%2036.825683%5D%2C%20%5B47.097234%2C%2037.53531%5D%2C%20%5B47.095335%2C%2037.541657%5D%2C%20%5B49.987587%2C%2036.245777%5D%2C%20%5B47.093036%2C%2037.559418%5D%2C%20%5B50.308956%2C%2034.878604%5D%2C%20%5B46.959675%2C%2032.036093%5D%2C%20%5B48.029281%2C%2037.719078%5D%2C%20%5B47.097156%2C%2037.543105%5D%2C%20%5B47.125216%2C%2037.683539%5D%2C%20%5B47.107327%2C%2037.518009%5D%2C%20%5B49.03255%2C%2038.372778%5D%2C%20%5B50.573394%2C%2030.267032%5D%2C%20%5B48.476616%2C%2034.979459%5D%2C%20%5B50.480571%2C%2034.96513%5D%2C%20%5B46.944035%2C%2032.046613%5D%2C%20%5B51.501931%2C%2031.324563%5D%2C%20%5B48.63053%2C%2038.37202%5D%2C%20%5B49.1691%2C%2037.454037%5D%2C%20%5B51.502113%2C%2031.325033%5D%2C%20%5B50.523182%2C%2030.983082%5D%2C%20%5B47.016301%2C%2032.000487%5D%2C%20%5B49.96525%2C%2036.345139%5D%2C%20%5B50.528701%2C%2030.847491%5D%2C%20%5B48.035791%2C%2037.771516%5D%2C%20%5B47.106422%2C%2037.516061%5D%2C%20%5B48.643172%2C%2038.403331%5D%2C%20%5B49.983595%2C%2036.277739%5D%2C%20%5B49.028373%2C%2037.566533%5D%2C%20%5B50.490646%2C%2030.258315%5D%2C%20%5B50.614717%2C%2030.292116%5D%2C%20%5B47.012606%2C%2031.997083%5D%2C%20%5B50.522629%2C%2030.486276%5D%2C%20%5B48.720916%2C%2037.511522%5D%2C%20%5B50.003036%2C%2036.237578%5D%2C%20%5B50.599258%2C%2026.420979%5D%2C%20%5B48.008846%2C%2037.803819%5D%2C%20%5B50.488818%2C%2030.467752%5D%2C%20%5B50.540571%2C%2030.263744%5D%2C%20%5B46.95761%2C%2032.036305%5D%2C%20%5B50.591922%2C%2030.939389%5D%2C%20%5B49.984777%2C%2036.238149%5D%2C%20%5B50.034454%2C%2036.345757%5D%2C%20%5B47.173635%2C%2037.555096%5D%2C%20%5B49.984352%2C%2036.35136%5D%2C%20%5B49.993108%2C%2036.222918%5D%2C%20%5B50.501995%2C%2030.449287%5D%2C%20%5B50.457284%2C%2030.343357%5D%2C%20%5B49.992987%2C%2036.222981%5D%2C%20%5B49.988001%2C%2036.340323%5D%2C%20%5B47.095672%2C%2037.547689%5D%2C%20%5B47.103718%2C%2037.643805%5D%2C%20%5B51.518689%2C%2031.32626%5D%2C%20%5B50.022909%2C%2036.339813%5D%2C%20%5B48.044642%2C%2037.972161%5D%2C%20%5B49.241217%2C%2028.423551%5D%2C%20%5B49.935723%2C%2036.251288%5D%2C%20%5B49.81721%2C%2036.054678%5D%2C%20%5B50.000756%2C%2036.299775%5D%2C%20%5B46.806113%2C%2032.265175%5D%2C%20%5B48.141068%2C%2037.891907%5D%2C%20%5B49.976591%2C%2036.200946%5D%2C%20%5B50.509804%2C%2030.432136%5D%2C%20%5B49.989901%2C%2036.25703%5D%2C%20%5B47.104517%2C%2037.589405%5D%2C%20%5B47.949682%2C%2037.692484%5D%2C%20%5B49.988041%2C%2036.245537%5D%2C%20%5B50.461255%2C%2029.811025%5D%2C%20%5B51.469385%2C%2031.25735%5D%2C%20%5B47.151459%2C%2037.73134%5D%2C%20%5B47.108852%2C%2037.560537%5D%2C%20%5B47.103769%2C%2037.553122%5D%2C%20%5B47.11691%2C%2037.524025%5D%2C%20%5B50.502264%2C%2030.417336%5D%2C%20%5B48.059573%2C%2037.776128%5D%2C%20%5B49.983428%2C%2036.327175%5D%2C%20%5B46.640093%2C%2032.614286%5D%2C%20%5B50.861709%2C%2034.906519%5D%2C%20%5B46.973135%2C%2032.017079%5D%2C%20%5B47.119206%2C%2037.518714%5D%2C%20%5B47.101232%2C%2037.63452%5D%2C%20%5B47.941011%2C%2037.503053%5D%2C%20%5B46.97228%2C%2032.002463%5D%2C%20%5B47.103264%2C%2037.534183%5D%2C%20%5B48.140036%2C%2037.736745%5D%2C%20%5B47.098194%2C%2037.633464%5D%2C%20%5B50.038541%2C%2036.245226%5D%2C%20%5B47.100353%2C%2037.653901%5D%2C%20%5B47.111935%2C%2037.522973%5D%2C%20%5B47.106742%2C%2037.548164%5D%2C%20%5B50.01043%2C%2036.285868%5D%2C%20%5B48.891986%2C%2036.298041%5D%2C%20%5B47.10183%2C%2037.669324%5D%2C%20%5B47.077747%2C%2037.458624%5D%2C%20%5B47.067413%2C%2037.482784%5D%2C%20%5B50.017508%2C%2036.185651%5D%2C%20%5B50.036329%2C%2036.356585%5D%2C%20%5B50.561924%2C%2030.270968%5D%2C%20%5B47.125855%2C%2037.666107%5D%2C%20%5B48.7507%2C%2039.182216%5D%2C%20%5B48.747557%2C%2039.261767%5D%2C%20%5B49.806165%2C%2036.070546%5D%2C%20%5B50.040068%2C%2036.226239%5D%2C%20%5B47.097866%2C%2037.633192%5D%2C%20%5B51.458341%2C%2031.300378%5D%2C%20%5B50.471605%2C%2030.403002%5D%2C%20%5B46.950486%2C%2032.032563%5D%2C%20%5B51.5212%2C%2031.361809%5D%2C%20%5B47.099801%2C%2037.523574%5D%2C%20%5B49.956708%2C%2036.365906%5D%2C%20%5B50.533503%2C%2030.233161%5D%2C%20%5B50.005954%2C%2036.314947%5D%2C%20%5B49.02017%2C%2038.362518%5D%2C%20%5B50.27618%2C%2035.975901%5D%2C%20%5B50.309573%2C%2034.873982%5D%2C%20%5B50.020498%2C%2036.239983%5D%2C%20%5B49.927498%2C%2036.256398%5D%2C%20%5B48.132279%2C%2037.804592%5D%2C%20%5B49.125892%2C%2037.295548%5D%2C%20%5B49.859362%2C%2024.055318%5D%2C%20%5B49.932311%2C%2036.439195%5D%2C%20%5B50.022088%2C%2036.372189%5D%2C%20%5B50.001728%2C%2036.301298%5D%2C%20%5B46.974358%2C%2031.996866%5D%2C%20%5B49.038522%2C%2038.373206%5D%2C%20%5B50.473048%2C%2034.958082%5D%2C%20%5B51.493886%2C%2031.2944%5D%2C%20%5B49.97202%2C%2036.228743%5D%2C%20%5B47.105785%2C%2037.642168%5D%2C%20%5B47.114526%2C%2037.526401%5D%2C%20%5B50.041061%2C%2036.35823%5D%2C%20%5B47.127326%2C%2037.675976%5D%2C%20%5B47.098235%2C%2037.567275%5D%2C%20%5B48.861611%2C%2038.488764%5D%2C%20%5B47.949548%2C%2037.701739%5D%2C%20%5B47.145081%2C%2037.618651%5D%2C%20%5B50.037571%2C%2036.347177%5D%2C%20%5B50.596225%2C%2036.665545%5D%2C%20%5B50.021923%2C%2036.341202%5D%2C%20%5B50.53345%2C%2030.209858%5D%2C%20%5B50.541792%2C%2030.230048%5D%2C%20%5B47.498711%2C%2034.6559%5D%2C%20%5B48.589221%2C%2037.991076%5D%2C%20%5B50.017452%2C%2036.240513%5D%2C%20%5B50.439658%2C%2030.147794%5D%2C%20%5B50.563877%2C%2030.212217%5D%2C%20%5B50.547634%2C%2030.204976%5D%2C%20%5B49.145932%2C%2037.243932%5D%2C%20%5B46.756069%2C%2033.380775%5D%2C%20%5B46.944265%2C%2032.045972%5D%2C%20%5B46.517609%2C%2030.717606%5D%2C%20%5B46.942613%2C%2032.054789%5D%2C%20%5B46.858295%2C%2032.016879%5D%2C%20%5B46.94945%2C%2031.934217%5D%2C%20%5B50.547457%2C%2030.248761%5D%2C%20%5B46.94073%2C%2032.045064%5D%2C%20%5B46.950069%2C%2032.021044%5D%2C%20%5B49.830096%2C%2036.331843%5D%2C%20%5B46.940311%2C%2032.045022%5D%2C%20%5B47.09274%2C%2037.519313%5D%2C%20%5B47.091139%2C%2037.522406%5D%2C%20%5B47.120629%2C%2037.524948%5D%2C%20%5B47.096182%2C%2037.545509%5D%2C%20%5B47.162368%2C%2037.612348%5D%2C%20%5B50.643323%2C%2029.931436%5D%2C%20%5B50.54077%2C%2030.228631%5D%2C%20%5B50.640764%2C%2029.92111%5D%2C%20%5B48.996756%2C%2038.416786%5D%2C%20%5B49.830549%2C%2036.691383%5D%2C%20%5B46.85514%2C%2032.014288%5D%2C%20%5B50.639734%2C%2029.917985%5D%2C%20%5B47.593322%2C%2037.499719%5D%2C%20%5B50.565487%2C%2030.269901%5D%2C%20%5B47.780497%2C%2037.25353%5D%2C%20%5B48.94546%2C%2038.48591%5D%2C%20%5B50.532282%2C%2030.21152%5D%2C%20%5B51.452662%2C%2031.233521%5D%2C%20%5B48.725484%2C%2037.542995%5D%2C%20%5B50.016533%2C%2036.206313%5D%2C%20%5B48.998095%2C%2038.402376%5D%2C%20%5B50.025088%2C%2036.21226%5D%2C%20%5B49.830019%2C%2036.331692%5D%2C%20%5B50.429563%2C%2030.027084%5D%2C%20%5B49.96184%2C%2036.12113%5D%2C%20%5B49.982218%2C%2036.35922%5D%2C%20%5B50.52186%2C%2030.226985%5D%2C%20%5B47.748417%2C%2037.302061%5D%2C%20%5B50.048365%2C%2036.186166%5D%2C%20%5B50.472607%2C%2029.870435%5D%2C%20%5B49.919258%2C%2036.274519%5D%2C%20%5B50.461407%2C%2029.811241%5D%2C%20%5B48.724463%2C%2038.631261%5D%2C%20%5B50.64273%2C%2029.93265%5D%2C%20%5B48.835248%2C%2037.389836%5D%2C%20%5B47.099313%2C%2037.628353%5D%2C%20%5B50.540108%2C%2030.355668%5D%2C%20%5B52.383736%2C%2032.202152%5D%2C%20%5B47.023246%2C%2031.995763%5D%2C%20%5B50.019365%2C%2036.359396%5D%2C%20%5B49.948588%2C%2036.379819%5D%2C%20%5B46.990872%2C%2032.111262%5D%2C%20%5B46.940977%2C%2032.038591%5D%2C%20%5B50.009843%2C%2036.239823%5D%2C%20%5B49.998302%2C%2036.240748%5D%2C%20%5B49.986493%2C%2036.25894%5D%2C%20%5B50.009391%2C%2036.242813%5D%2C%20%5B50.566455%2C%2030.319546%5D%2C%20%5B49.826672%2C%2023.9886%5D%2C%20%5B49.840242%2C%2023.995009%5D%2C%20%5B46.960921%2C%2032.036531%5D%2C%20%5B47.110105%2C%2037.562466%5D%2C%20%5B46.956985%2C%2032.06965%5D%2C%20%5B47.107504%2C%2037.627784%5D%2C%20%5B49.95106%2C%2036.376356%5D%2C%20%5B47.09053%2C%2037.526123%5D%2C%20%5B50.013798%2C%2036.348112%5D%2C%20%5B47.411049%2C%2032.423536%5D%2C%20%5B46.971944%2C%2032.00229%5D%2C%20%5B48.032282%2C%2038.493529%5D%2C%20%5B47.053518%2C%2037.489768%5D%2C%20%5B47.832506%2C%2035.093718%5D%2C%20%5B48.965196%2C%2037.809921%5D%2C%20%5B48.965447%2C%2037.811046%5D%2C%20%5B49.965916%2C%2036.008585%5D%2C%20%5B50.024666%2C%2036.334299%5D%2C%20%5B46.943954%2C%2031.935462%5D%2C%20%5B46.413473%2C%2030.725053%5D%2C%20%5B47.061541%2C%2037.510252%5D%2C%20%5B46.838666%2C%2029.622026%5D%2C%20%5B47.0458%2C%2037.485264%5D%2C%20%5B47.151775%2C%2037.604025%5D%2C%20%5B47.098103%2C%2037.578318%5D%2C%20%5B47.864712%2C%2035.125731%5D%2C%20%5B46.074752%2C%2030.468398%5D%2C%20%5B47.105129%2C%2037.63322%5D%2C%20%5B47.863893%2C%2035.12337%5D%2C%20%5B46.638979%2C%2032.614123%5D%2C%20%5B47.094456%2C%2037.538575%5D%2C%20%5B47.934667%2C%2037.492673%5D%2C%20%5B47.976889%2C%2037.69511%5D%2C%20%5B48.889019%2C%2038.470816%5D%2C%20%5B46.842903%2C%2035.373279%5D%2C%20%5B46.410176%2C%2030.699853%5D%2C%20%5B48.488495%2C%2035.028385%5D%2C%20%5B48.927137%2C%2038.245693%5D%2C%20%5B46.564114%2C%2030.834789%5D%2C%20%5B48.992607%2C%2037.443586%5D%2C%20%5B46.562757%2C%2030.8294%5D%2C%20%5B48.941507%2C%2037.456383%5D%2C%20%5B47.949748%2C%2037.691123%5D%2C%20%5B48.941932%2C%2037.455823%5D%2C%20%5B49.342921%2C%2037.547943%5D%2C%20%5B47.118902%2C%2037.685066%5D%2C%20%5B47.940842%2C%2037.599668%5D%2C%20%5B47.089386%2C%2037.584732%5D%2C%20%5B48.990303%2C%2038.398376%5D%2C%20%5B50.112239%2C%2036.106292%5D%2C%20%5B48.702205%2C%2038.064719%5D%5D%2C%0A%20%20%20%20%20%20%20%20%20%20%20%20%20%20%20%20%7B%22blur%22%3A%2015%2C%20%22maxZoom%22%3A%2018%2C%20%22minOpacity%22%3A%200.5%2C%20%22radius%22%3A%2025%7D%0A%20%20%20%20%20%20%20%20%20%20%20%20%29.addTo%28map_3f143c73ee624a37bb828347e159a19f%29%3B%0A%20%20%20%20%20%20%20%20%0A%3C/script%3E onload=\"this.contentDocument.open();this.contentDocument.write(    decodeURIComponent(this.getAttribute('data-html')));this.contentDocument.close();\" allowfullscreen webkitallowfullscreen mozallowfullscreen></iframe></div></div>"
      ],
      "text/plain": [
       "<folium.folium.Map at 0x7f429704c310>"
      ]
     },
     "execution_count": 31,
     "metadata": {},
     "output_type": "execute_result"
    }
   ],
   "source": [
    "# Create a Map instance\n",
    "m = folium.Map(location=[49.107892273527504, 31.444630060047018], tiles = 'stamentoner', zoom_start=6, control_scale=True)\n",
    "\n",
    "# Add heatmap to map instance\n",
    "# Available parameters: HeatMap(data, name=None, min_opacity=0.5, max_zoom=18, max_val=1.0, radius=25, blur=15, gradient=None, overlay=True, control=True, show=True)\n",
    "HeatMap(locations).add_to(m)\n",
    "\n",
    "# Show map\n",
    "m"
   ]
  },
  {
   "cell_type": "code",
   "execution_count": null,
   "id": "19fa3d31-4b62-456f-94c8-cadcc92f81f7",
   "metadata": {},
   "outputs": [],
   "source": []
  }
 ],
 "metadata": {
  "kernelspec": {
   "display_name": "Python 3 (ipykernel)",
   "language": "python",
   "name": "python3"
  },
  "language_info": {
   "codemirror_mode": {
    "name": "ipython",
    "version": 3
   },
   "file_extension": ".py",
   "mimetype": "text/x-python",
   "name": "python",
   "nbconvert_exporter": "python",
   "pygments_lexer": "ipython3",
   "version": "3.9.12"
  }
 },
 "nbformat": 4,
 "nbformat_minor": 5
}
